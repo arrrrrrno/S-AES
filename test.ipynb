{
 "cells": [
  {
   "cell_type": "code",
   "execution_count": 1,
   "metadata": {
    "collapsed": true
   },
   "outputs": [
    {
     "data": {
      "text/plain": "[0, 1, 0, 1]"
     },
     "execution_count": 1,
     "metadata": {},
     "output_type": "execute_result"
    }
   ],
   "source": [
    "import numpy as np\n",
    "import math\n",
    "\n",
    "l = [1,0,1,1,0,1,0,1]\n",
    "l[4:8]"
   ]
  },
  {
   "cell_type": "code",
   "execution_count": 2,
   "outputs": [
    {
     "data": {
      "text/plain": "1"
     },
     "execution_count": 2,
     "metadata": {},
     "output_type": "execute_result"
    }
   ],
   "source": [
    "r = [0,1]\n",
    "int(''.join(map(str, r)), 2)"
   ],
   "metadata": {
    "collapsed": false
   }
  },
  {
   "cell_type": "code",
   "execution_count": 3,
   "outputs": [
    {
     "data": {
      "text/plain": "[1, 0, 1, 0]"
     },
     "execution_count": 3,
     "metadata": {},
     "output_type": "execute_result"
    }
   ],
   "source": [
    "def str_to_list(input_str):\n",
    "    temp = list(input_str)\n",
    "    for i in range(len(temp)):\n",
    "        temp[i] = int(temp[i])\n",
    "    return temp\n",
    "six = 'A'\n",
    "str_to_list(bin(int(six, 16))[2:].zfill(4))"
   ],
   "metadata": {
    "collapsed": false
   }
  },
  {
   "cell_type": "code",
   "execution_count": 4,
   "outputs": [
    {
     "data": {
      "text/plain": "[0, 1, 1, 0, 0, 1, 0, 0, 0, 0, 0, 0, 1, 1, 0, 0]"
     },
     "execution_count": 4,
     "metadata": {},
     "output_type": "execute_result"
    }
   ],
   "source": [
    "SBox = np.array([['9', '4', 'A', 'B'], ['D', '1' ,'8', '5'], ['6', '2', '0', '3'], ['C', 'E', 'F', '7']])\n",
    "def replace_S(input_mat, SBox):\n",
    "    output = []\n",
    "    for i in range(4):\n",
    "        small = input_mat[i*4:i*4+4]\n",
    "        left = int(''.join(map(str, small[0:2])), 2)\n",
    "        right = int(''.join(map(str, small[2:4])), 2)\n",
    "        res = str_to_list(bin(int(SBox[left][right], 16))[2:].zfill(4))\n",
    "        output.extend(res)\n",
    "    return output\n",
    "input = [1, 0, 0, 0, 0, 0, 0, 1, 1, 0, 1, 0, 1, 1, 0, 0]\n",
    "replace_S(input, SBox)"
   ],
   "metadata": {
    "collapsed": false
   }
  },
  {
   "cell_type": "code",
   "execution_count": 5,
   "outputs": [
    {
     "data": {
      "text/plain": "3"
     },
     "execution_count": 5,
     "metadata": {},
     "output_type": "execute_result"
    }
   ],
   "source": [
    "int(''.join(map(str, ['1', '1'])), 2)"
   ],
   "metadata": {
    "collapsed": false
   }
  },
  {
   "cell_type": "code",
   "execution_count": 6,
   "outputs": [
    {
     "data": {
      "text/plain": "'11'"
     },
     "execution_count": 6,
     "metadata": {},
     "output_type": "execute_result"
    }
   ],
   "source": [
    "''.join(map(str, ['1', '1']))"
   ],
   "metadata": {
    "collapsed": false
   }
  },
  {
   "cell_type": "code",
   "execution_count": 7,
   "outputs": [
    {
     "data": {
      "text/plain": "'9f'"
     },
     "execution_count": 7,
     "metadata": {},
     "output_type": "execute_result"
    }
   ],
   "source": [
    "hex(int(''.join(map(str, ['1','0','0','1','1','1','1','1'])), 2))[2:]"
   ],
   "metadata": {
    "collapsed": false
   }
  },
  {
   "cell_type": "code",
   "execution_count": 8,
   "outputs": [
    {
     "data": {
      "text/plain": "'1001'"
     },
     "execution_count": 8,
     "metadata": {},
     "output_type": "execute_result"
    }
   ],
   "source": [
    "''.join(map(str, ['1','0','0','1']))"
   ],
   "metadata": {
    "collapsed": false
   }
  },
  {
   "cell_type": "code",
   "execution_count": 9,
   "outputs": [
    {
     "data": {
      "text/plain": "['1', '1', '1', '1']"
     },
     "execution_count": 9,
     "metadata": {},
     "output_type": "execute_result"
    }
   ],
   "source": [
    "list('1111')"
   ],
   "metadata": {
    "collapsed": false
   }
  },
  {
   "cell_type": "code",
   "execution_count": 10,
   "outputs": [
    {
     "data": {
      "text/plain": "['B', 'A']"
     },
     "execution_count": 10,
     "metadata": {},
     "output_type": "execute_result"
    }
   ],
   "source": [
    "temp = ['A', 'B']\n",
    "temp[::-1]"
   ],
   "metadata": {
    "collapsed": false
   }
  },
  {
   "cell_type": "code",
   "execution_count": 11,
   "outputs": [
    {
     "data": {
      "text/plain": "[1, 0, 0, 1]"
     },
     "execution_count": 11,
     "metadata": {},
     "output_type": "execute_result"
    }
   ],
   "source": [
    "a = []\n",
    "b = ['1', '0', '0', '1']\n",
    "for i in b:\n",
    "    a.append(int(i))\n",
    "def xor(in1, in2):\n",
    "    size = len(in1)\n",
    "    result = []\n",
    "    for i in range(size):\n",
    "        if in1[i] == in2[i]:\n",
    "            result.append('0')\n",
    "        else:\n",
    "            result.append('1')\n",
    "    return result\n",
    "a"
   ],
   "metadata": {
    "collapsed": false
   }
  },
  {
   "cell_type": "code",
   "execution_count": 12,
   "outputs": [
    {
     "data": {
      "text/plain": "[0, 0, 0, 0, 1, 1, 0, 1]"
     },
     "execution_count": 12,
     "metadata": {},
     "output_type": "execute_result"
    }
   ],
   "source": [
    "def left_shift_no_circle(input_list, num):\n",
    "    result = ['0' for i in range(8)]\n",
    "    for i in range(8-num):\n",
    "        result[i] = input_list[i+num]\n",
    "    return result\n",
    "left_shift_no_circle([0,0,0,0,1,1,0,1], 0)"
   ],
   "metadata": {
    "collapsed": false
   }
  },
  {
   "cell_type": "code",
   "execution_count": 13,
   "outputs": [
    {
     "data": {
      "text/plain": "['0', '0', '0', '0', '1', '0', '1', '0']"
     },
     "execution_count": 13,
     "metadata": {},
     "output_type": "execute_result"
    }
   ],
   "source": [
    "def bin_mul(a, b):\n",
    "    m = ['0', '0', '0', '0'] + a\n",
    "    n = b[::-1]\n",
    "    result = ['0' for j in range(8)]\n",
    "    for i in range(4):\n",
    "        temp = ['0' for j in range(8)]\n",
    "        if n[i] == '1':\n",
    "            temp = left_shift_no_circle(m, i)\n",
    "            result = xor(temp, result)\n",
    "    return result\n",
    "cal = bin_mul(['0','1','1','0'], ['0','0','1','1'])\n",
    "# cal = bin_mul(['0','1','0','0'], ['1','1','0','0'])\n",
    "cal"
   ],
   "metadata": {
    "collapsed": false
   }
  },
  {
   "cell_type": "code",
   "execution_count": 14,
   "outputs": [
    {
     "data": {
      "text/plain": "['1', '0', '1', '1']"
     },
     "execution_count": 14,
     "metadata": {},
     "output_type": "execute_result"
    }
   ],
   "source": [
    "def bin_div(a, b):\n",
    "    result = a\n",
    "    while True:\n",
    "        highest = 7 - result.index('1')\n",
    "        if highest < 4:\n",
    "            break\n",
    "        temp = left_shift_no_circle(b, highest - 4)\n",
    "        result = xor(result, temp)\n",
    "    return result[4:]\n",
    "gf = ['0','0','0','1','0','0','1','1']\n",
    "bin_div(['0','0','0','1','1','0','0','0'], gf)"
   ],
   "metadata": {
    "collapsed": false
   }
  },
  {
   "cell_type": "code",
   "execution_count": 15,
   "outputs": [
    {
     "data": {
      "text/plain": "['2']"
     },
     "execution_count": 15,
     "metadata": {},
     "output_type": "execute_result"
    }
   ],
   "source": [
    "def hex_to_bin(input_list):  # 十六进制转二进制\n",
    "    output = []\n",
    "    for i in input_list:\n",
    "        output.extend(list(bin(int(i, 16))[2:].zfill(4)))\n",
    "    return list(output)\n",
    "\n",
    "\n",
    "def bin_to_hex(input_list):     # 二进制转十六进制\n",
    "    output = []\n",
    "    for i in range(int(len(input_list)/4)):\n",
    "        output.extend(hex(int(''.join(map(str, input_list[i*4:i*4+4])), 2))[2:])\n",
    "    return list(output)\n",
    "\n",
    "def cal_GF(a, b):\n",
    "    if a == ['0', '0', '0', '0'] or b == ['0', '0', '0', '0']:      # 有一方是0就不用算了，不然在除法过程会报错\n",
    "        return['0', '0', '0', '0']\n",
    "    result = bin_mul(a, b)\n",
    "    result = bin_div(result, gf)\n",
    "    return result\n",
    "\n",
    "test1 = hex_to_bin(['3'])\n",
    "test2 = hex_to_bin(['f'])\n",
    "res = cal_GF(test1, test2)\n",
    "bin_to_hex(res)"
   ],
   "metadata": {
    "collapsed": false
   }
  },
  {
   "cell_type": "code",
   "execution_count": 26,
   "outputs": [
    {
     "name": "stdout",
     "output_type": "stream",
     "text": [
      "0100100100100000011010000110000101110110011001010010000001100001001000000110010001110010011001010110000101101101\n"
     ]
    },
    {
     "data": {
      "text/plain": "'I have a dream'"
     },
     "execution_count": 26,
     "metadata": {},
     "output_type": "execute_result"
    }
   ],
   "source": [
    "def ascii_to_bin(text):\n",
    "    \"\"\"将ASCII字符串转换为二进制\"\"\"\n",
    "    return ''.join(format(ord(ch), '016b') for ch in text)\n",
    "\n",
    "\n",
    "def bin_to_ascii(binary):\n",
    "    \"\"\"将二进制转换为ASCII字符串\"\"\"\n",
    "    return ''.join(chr(int(binary[i:i+8], 2)) for i in range(0, len(binary), 8))\n",
    "\n",
    "word = 'I have a dream'\n",
    "l1 = ascii_to_bin(word)\n",
    "print(l1)\n",
    "l2 = bin_to_ascii(l1)\n",
    "l2"
   ],
   "metadata": {
    "collapsed": false
   }
  },
  {
   "cell_type": "code",
   "execution_count": 19,
   "outputs": [
    {
     "data": {
      "text/plain": "'11100001'"
     },
     "execution_count": 19,
     "metadata": {},
     "output_type": "execute_result"
    }
   ],
   "source": [
    "a = '1110'\n",
    "b = '0001'\n",
    "a+b"
   ],
   "metadata": {
    "collapsed": false
   }
  },
  {
   "cell_type": "code",
   "execution_count": 22,
   "outputs": [
    {
     "data": {
      "text/plain": "112"
     },
     "execution_count": 22,
     "metadata": {},
     "output_type": "execute_result"
    }
   ],
   "source": [
    "c = '0001111001000100000000101101000010101111000111100110010100110001010000111110000111001110110101110010100000011010'\n",
    "len(c)"
   ],
   "metadata": {
    "collapsed": false
   }
  },
  {
   "cell_type": "code",
   "execution_count": 24,
   "outputs": [
    {
     "data": {
      "text/plain": "'\\x1eD\\x02Ð¯\\x1ee1CáÎ×(\\x1a'"
     },
     "execution_count": 24,
     "metadata": {},
     "output_type": "execute_result"
    }
   ],
   "source": [
    "d = bin_to_ascii(c)\n",
    "d"
   ],
   "metadata": {
    "collapsed": false
   }
  },
  {
   "cell_type": "code",
   "execution_count": 25,
   "outputs": [
    {
     "data": {
      "text/plain": "'0001111001000100000000101101000010101111000111100110010100110001010000111110000111001110110101110010100000011010'"
     },
     "execution_count": 25,
     "metadata": {},
     "output_type": "execute_result"
    }
   ],
   "source": [
    "ascii_to_bin(d)"
   ],
   "metadata": {
    "collapsed": false
   }
  },
  {
   "cell_type": "code",
   "execution_count": 29,
   "outputs": [
    {
     "name": "stdout",
     "output_type": "stream",
     "text": [
      "16\n",
      "0\n"
     ]
    }
   ],
   "source": [
    "for i in range(32-16, -1, -16):\n",
    "    print(i)"
   ],
   "metadata": {
    "collapsed": false
   }
  },
  {
   "cell_type": "code",
   "execution_count": 28,
   "outputs": [
    {
     "name": "stdout",
     "output_type": "stream",
     "text": [
      "0\n",
      "16\n"
     ]
    }
   ],
   "source": [
    "for i in range(0, 32, 16):\n",
    "    print(i)"
   ],
   "metadata": {
    "collapsed": false
   }
  },
  {
   "cell_type": "code",
   "execution_count": 30,
   "outputs": [
    {
     "name": "stdout",
     "output_type": "stream",
     "text": [
      "1010011100111011\n",
      "1110000101011010\n"
     ]
    }
   ],
   "source": [
    "k = '10100111001110111110000101011010'\n",
    "for i in range(0, len(k), 16):\n",
    "    print(k[i:i+16])"
   ],
   "metadata": {
    "collapsed": false
   }
  },
  {
   "cell_type": "code",
   "execution_count": 31,
   "outputs": [
    {
     "name": "stdout",
     "output_type": "stream",
     "text": [
      "1110000101011010\n",
      "1010011100111011\n"
     ]
    }
   ],
   "source": [
    "for i in range(len(k)-16, -1, -16):\n",
    "    print(k[i:i+16])"
   ],
   "metadata": {
    "collapsed": false
   }
  },
  {
   "cell_type": "code",
   "execution_count": 36,
   "outputs": [
    {
     "data": {
      "text/plain": "'0000000000000010'"
     },
     "execution_count": 36,
     "metadata": {},
     "output_type": "execute_result"
    }
   ],
   "source": [
    "bin(2)[2:].zfill(16)"
   ],
   "metadata": {
    "collapsed": false
   }
  },
  {
   "cell_type": "code",
   "execution_count": 40,
   "outputs": [
    {
     "name": "stdout",
     "output_type": "stream",
     "text": [
      "[{'k1': 1, 'c': 1}, {'k1': 2, 'c': 2}]\n",
      "1 1\n",
      "2 2\n"
     ]
    }
   ],
   "source": [
    "list_dict_p = []\n",
    "list_dict_p.append({'k1': 1, 'c': 1})\n",
    "list_dict_p.append({'k1': 2, 'c': 2})\n",
    "print(list_dict_p)\n",
    "for i in list_dict_p:\n",
    "    print(i['k1'], i['c'])"
   ],
   "metadata": {
    "collapsed": false
   }
  },
  {
   "cell_type": "code",
   "execution_count": 57,
   "outputs": [
    {
     "name": "stdout",
     "output_type": "stream",
     "text": [
      "65536\n",
      "1111111111111111\n"
     ]
    }
   ],
   "source": [
    "num = 0\n",
    "my_list = []\n",
    "for i in range(65536):\n",
    "    num += 1\n",
    "    k1 = bin(i)[2:].zfill(16)\n",
    "    my_list.append(k1)\n",
    "print(num)\n",
    "print(my_list[65535])"
   ],
   "metadata": {
    "collapsed": false
   }
  },
  {
   "cell_type": "code",
   "execution_count": 58,
   "outputs": [
    {
     "data": {
      "text/plain": "'11111111'"
     },
     "execution_count": 58,
     "metadata": {},
     "output_type": "execute_result"
    }
   ],
   "source": [
    "my_list[65535][:8]"
   ],
   "metadata": {
    "collapsed": false
   }
  },
  {
   "cell_type": "code",
   "execution_count": 1,
   "outputs": [
    {
     "name": "stdout",
     "output_type": "stream",
     "text": [
      "1\n",
      "2\n",
      "3\n",
      "4\n",
      "5\n",
      "6\n",
      "7\n",
      "8\n",
      "9\n"
     ]
    }
   ],
   "source": [
    "for n in range(1, 10, 1):\n",
    "    print(n)"
   ],
   "metadata": {
    "collapsed": false
   }
  },
  {
   "cell_type": "code",
   "execution_count": 1,
   "outputs": [
    {
     "name": "stdout",
     "output_type": "stream",
     "text": [
      "0.00099945068359375\n"
     ]
    }
   ],
   "source": [
    "import time\n",
    "t1 = time.time()\n",
    "li = []\n",
    "for i in range(10000):\n",
    "    li.append(i)\n",
    "t2 = time.time()\n",
    "print(t2-t1)"
   ],
   "metadata": {
    "collapsed": false
   }
  },
  {
   "cell_type": "code",
   "execution_count": 3,
   "outputs": [
    {
     "data": {
      "text/plain": "'helloworld'"
     },
     "execution_count": 3,
     "metadata": {},
     "output_type": "execute_result"
    }
   ],
   "source": [
    "str1 = 'hello world'\n",
    "str2 = str1.replace(' ', '')\n",
    "str2"
   ],
   "metadata": {
    "collapsed": false
   }
  },
  {
   "cell_type": "code",
   "execution_count": 10,
   "outputs": [
    {
     "name": "stdout",
     "output_type": "stream",
     "text": [
      "['1', '0', '0', '1', ' ', '1', '0', '1', '0', ' ', '0', '1', '0', '1', ' ', '0', '0', '0', '1']\n"
     ]
    },
    {
     "data": {
      "text/plain": "'1001 1010 0101 0001'"
     },
     "execution_count": 10,
     "metadata": {},
     "output_type": "execute_result"
    }
   ],
   "source": [
    "str3 = '1001101001010001'\n",
    "list3 = list(str3)\n",
    "j = 0\n",
    "for i in range(4, len(str3), 4):\n",
    "    list3.insert(i + j, ' ')\n",
    "    j += 1\n",
    "print(list3)\n",
    "''.join(map(str, list3))"
   ],
   "metadata": {
    "collapsed": false
   }
  },
  {
   "cell_type": "code",
   "execution_count": 9,
   "outputs": [
    {
     "name": "stdout",
     "output_type": "stream",
     "text": [
      "4\n",
      "8\n",
      "12\n"
     ]
    }
   ],
   "source": [
    "for i in range(4, len(str3), 4):\n",
    "    print(i)"
   ],
   "metadata": {
    "collapsed": false
   }
  },
  {
   "cell_type": "code",
   "execution_count": 11,
   "outputs": [
    {
     "data": {
      "text/plain": "'1010'"
     },
     "execution_count": 11,
     "metadata": {},
     "output_type": "execute_result"
    }
   ],
   "source": [
    "str1 = '1001'\n",
    "str2 = '0011'\n",
    "def xor_str(str1, str2):\n",
    "    size = len(str1)\n",
    "    result = ''\n",
    "    for i in range(size):\n",
    "        if str1[i] == str2[i]:\n",
    "            result += '0'\n",
    "        else:\n",
    "            result += '1'\n",
    "    return result\n",
    "xor_str(str1, str2)"
   ],
   "metadata": {
    "collapsed": false
   }
  },
  {
   "cell_type": "code",
   "execution_count": 1,
   "outputs": [
    {
     "data": {
      "text/plain": "2"
     },
     "execution_count": 1,
     "metadata": {},
     "output_type": "execute_result"
    }
   ],
   "source": [
    "import time\n",
    "import numpy as np\n",
    "\n",
    "lista = ['10000100011110010011100110011110', '11000110011000010011100111100011']\n",
    "len(lista)"
   ],
   "metadata": {
    "collapsed": false
   }
  },
  {
   "cell_type": "code",
   "execution_count": 2,
   "outputs": [
    {
     "data": {
      "text/plain": "'10000100011110010011100110011110 11000110011000010011100111100011'"
     },
     "execution_count": 2,
     "metadata": {},
     "output_type": "execute_result"
    }
   ],
   "source": [
    "key = ''\n",
    "for i in range(len(lista)):\n",
    "    if i == 0:\n",
    "        key += lista[i]\n",
    "    else:\n",
    "        key += ' ' + lista[i]\n",
    "key"
   ],
   "metadata": {
    "collapsed": false
   }
  },
  {
   "cell_type": "code",
   "execution_count": null,
   "outputs": [],
   "source": [],
   "metadata": {
    "collapsed": false
   }
  }
 ],
 "metadata": {
  "kernelspec": {
   "display_name": "Python 3",
   "language": "python",
   "name": "python3"
  },
  "language_info": {
   "codemirror_mode": {
    "name": "ipython",
    "version": 2
   },
   "file_extension": ".py",
   "mimetype": "text/x-python",
   "name": "python",
   "nbconvert_exporter": "python",
   "pygments_lexer": "ipython2",
   "version": "2.7.6"
  }
 },
 "nbformat": 4,
 "nbformat_minor": 0
}
