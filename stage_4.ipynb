{
 "cells": [
  {
   "cell_type": "code",
   "execution_count": 1,
   "metadata": {
    "collapsed": true
   },
   "outputs": [],
   "source": [
    "import numpy as np\n",
    "import tkinter as tk\n",
    "from tkinter import ttk\n",
    "\n",
    "\n",
    "def xor(in1, in2):\n",
    "    size = len(in1)\n",
    "    result = []\n",
    "    for i in range(size):\n",
    "        if in1[i] == in2[i]:\n",
    "            result.append('0')\n",
    "        else:\n",
    "            result.append('1')\n",
    "    return result\n",
    "\n",
    "\n",
    "# list_to_str:  ''.join(map(str, list))\n",
    "\n",
    "def hex_to_bin(input_list):  # 十六进制转二进制\n",
    "    output = []\n",
    "    for i in input_list:\n",
    "        output.extend(list(bin(int(i, 16))[2:].zfill(4)))\n",
    "    return list(output)\n",
    "\n",
    "\n",
    "def bin_to_hex(input_list):  # 二进制转十六进制\n",
    "    output = []\n",
    "    for i in range(int(len(input_list) / 4)):\n",
    "        output.extend(hex(int(''.join(map(str, input_list[i * 4:i * 4 + 4])), 2))[2:])\n",
    "    return list(output)\n",
    "\n",
    "\n",
    "class AES:\n",
    "    def __init__(self):\n",
    "        self.p = []\n",
    "        self.k = []\n",
    "        self.SBox = np.array([['9', '4', 'A', 'B'], ['D', '1', '8', '5'], ['6', '2', '0', '3'], ['C', 'E', 'F', '7']])\n",
    "        self.SBox_ = np.array([['A', '5', '9', 'B'], ['1', '7', '8', 'F'], ['6', '0', '2', '3'], ['C', '4', 'D', 'E']])\n",
    "        self.RCON1 = ['1', '0', '0', '0', '0', '0', '0', '0']\n",
    "        self.RCON2 = ['0', '0', '1', '1', '0', '0', '0', '0']\n",
    "        self.row_mix_mat = ['1', '4', '4', '1']\n",
    "        self.row_mix_mat_ = ['9', '2', '2', '9']\n",
    "        self.GF = ['0', '0', '0', '1', '0', '0', '1', '1']\n",
    "\n",
    "    # 行移位\n",
    "    def row_shift(self, input_mat):\n",
    "        output = input_mat[0]\n",
    "        output += input_mat[3]\n",
    "        output = list(output)\n",
    "        output.extend(input_mat[2])\n",
    "        output.extend(input_mat[1])\n",
    "        return output\n",
    "\n",
    "    # 半字节代替\n",
    "    def replace_S(self, input_mat, SBox):\n",
    "        bin_list = hex_to_bin(input_mat)\n",
    "        output = []\n",
    "        for i in range(int(len(bin_list) / 4)):\n",
    "            small = bin_list[i * 4:i * 4 + 4]\n",
    "            left = int(''.join(map(str, small[0:2])), 2)\n",
    "            right = int(''.join(map(str, small[2:4])), 2)\n",
    "            res = list(bin(int(SBox[left][right], 16))[2:].zfill(4))\n",
    "            output.extend(res)\n",
    "        return bin_to_hex(output)\n",
    "\n",
    "    def cal_g(self, input_w, round_num):  # 密钥扩展的g计算\n",
    "        temp = bin_to_hex(input_w)\n",
    "        n = temp[::-1]\n",
    "        n = self.replace_S(n, self.SBox)\n",
    "        n = hex_to_bin(n)\n",
    "        if round_num == 1:\n",
    "            w_ = xor(n, self.RCON1)\n",
    "        else:\n",
    "            w_ = xor(n, self.RCON2)\n",
    "        return w_\n",
    "\n",
    "    # 密钥扩展\n",
    "    def expand_key(self, init_key):\n",
    "        \"\"\"第一轮\"\"\"\n",
    "        key1 = list(init_key)\n",
    "        w0 = init_key[:8]\n",
    "        w1 = init_key[8:]\n",
    "        w1_g = self.cal_g(w1, 1)\n",
    "        w2 = xor(w0, w1_g)\n",
    "        w3 = xor(w1, w2)\n",
    "        key2 = w2 + w3  # w2.extend(w3)\n",
    "        w3_g = self.cal_g(w3, 2)\n",
    "        w4 = xor(w2, w3_g)\n",
    "        w5 = xor(w3, w4)\n",
    "        key3 = w4 + w5  # w4.extend(w5)\n",
    "        return key1, key2, key3\n",
    "\n",
    "    # 以下4个函数皆用于列混淆\n",
    "    def left_shift_no_circle(self, input_list, num):  # 针对GF算数的乘法的移位\n",
    "        result = ['0' for i in range(8)]\n",
    "        for i in range(8 - num):\n",
    "            result[i] = input_list[i + num]\n",
    "        return result\n",
    "\n",
    "    def bin_mul(self, a, b):  # GF算数的乘法部分\n",
    "        m = ['0', '0', '0', '0'] + a\n",
    "        n = b[::-1]\n",
    "        result = ['0' for j in range(8)]\n",
    "        for i in range(4):\n",
    "            temp = ['0' for j in range(8)]\n",
    "            if n[i] == '1':\n",
    "                temp = self.left_shift_no_circle(m, i)\n",
    "                result = xor(temp, result)\n",
    "        return result\n",
    "\n",
    "    def bin_div(self, a, b):  # GF算数的除法部分\n",
    "        result = a\n",
    "        while True:\n",
    "            highest = 7 - result.index('1')\n",
    "            if highest < 4:\n",
    "                break\n",
    "            temp = self.left_shift_no_circle(b, highest - 4)\n",
    "            result = xor(result, temp)\n",
    "        return result[4:]\n",
    "\n",
    "    def cal_GF(self, a, b):\n",
    "        if a == ['0', '0', '0', '0'] or b == ['0', '0', '0', '0']:  # 有一方是0就不用算了，不然在除法过程会报错\n",
    "            return ['0', '0', '0', '0']\n",
    "        result = self.bin_mul(a, b)\n",
    "        result = self.bin_div(result, self.GF)\n",
    "        return result\n",
    "\n",
    "    # 列混淆\n",
    "    def col_mix(self, input_mat, mix_mat):  # 列混淆\n",
    "        s00 = hex_to_bin(input_mat[0])\n",
    "        s01 = hex_to_bin(input_mat[2])\n",
    "        s10 = hex_to_bin(input_mat[1])\n",
    "        s11 = hex_to_bin(input_mat[3])\n",
    "        s00_ = xor(self.cal_GF(hex_to_bin(mix_mat[0]), s00), self.cal_GF(hex_to_bin(mix_mat[1]), s10))\n",
    "        s01_ = xor(self.cal_GF(hex_to_bin(mix_mat[0]), s01), self.cal_GF(hex_to_bin(mix_mat[1]), s11))\n",
    "        s10_ = xor(self.cal_GF(hex_to_bin(mix_mat[2]), s00), self.cal_GF(hex_to_bin(mix_mat[3]), s10))\n",
    "        s11_ = xor(self.cal_GF(hex_to_bin(mix_mat[2]), s01), self.cal_GF(hex_to_bin(mix_mat[3]), s11))\n",
    "        return bin_to_hex(s00_ + s10_ + s01_ + s11_)\n",
    "\n",
    "    def encode(self, p, k):\n",
    "        self.p = list(p)\n",
    "        self.k = list(k)\n",
    "        result = self.p\n",
    "        for i in range(0, len(self.k), 16):\n",
    "            key1, key2, key3 = self.expand_key(self.k[i:i+16])\n",
    "            # 轮密钥加\n",
    "            mid = xor(key1, result)\n",
    "            \"\"\"第1轮\"\"\"\n",
    "            mid = bin_to_hex(mid)  # 转为十六进制\n",
    "            # 半字节代替\n",
    "            mid = self.replace_S(mid, self.SBox)\n",
    "            # 行位移\n",
    "            mid = self.row_shift(mid)\n",
    "            # 列混淆\n",
    "            mid = self.col_mix(mid, self.row_mix_mat)\n",
    "            mid = hex_to_bin(mid)\n",
    "            # 轮密钥加\n",
    "            mid = xor(mid, key2)\n",
    "            \"\"\"第2轮\"\"\"\n",
    "            mid = bin_to_hex(mid)\n",
    "            # 半字节代替\n",
    "            mid = self.replace_S(mid, self.SBox)\n",
    "            # 行位移\n",
    "            mid = self.row_shift(mid)\n",
    "            mid = hex_to_bin(mid)\n",
    "            result = xor(mid, key3)\n",
    "        return ''.join(map(str, result))\n",
    "\n",
    "    def decode(self, c, k):\n",
    "        self.k = list(k)\n",
    "        c = list(c)\n",
    "        result = c\n",
    "        for i in range(len(self.k)-16, -1, -16):\n",
    "            key1, key2, key3 = self.expand_key(self.k[i:i+16])\n",
    "            # 轮密钥加\n",
    "            mid = xor(key3, result)\n",
    "            \"\"\"第1轮\"\"\"\n",
    "            mid = bin_to_hex(mid)  # 转为十六进制\n",
    "            # 行位移\n",
    "            mid = self.row_shift(mid)\n",
    "            # 半字节代替\n",
    "            mid = self.replace_S(mid, self.SBox_)\n",
    "            # 轮密钥加\n",
    "            mid = hex_to_bin(mid)\n",
    "            mid = xor(mid, key2)\n",
    "            mid = bin_to_hex(mid)\n",
    "            # 列混淆\n",
    "            mid = self.col_mix(mid, self.row_mix_mat_)\n",
    "            \"\"\"第2轮\"\"\"\n",
    "            # 行位移\n",
    "            mid = self.row_shift(mid)\n",
    "            # 半字节代替\n",
    "            mid = self.replace_S(mid, self.SBox_)\n",
    "            mid = hex_to_bin(mid)\n",
    "            result = xor(mid, key1)\n",
    "        return ''.join(map(str, result))\n",
    "\n",
    "\n",
    "class window:\n",
    "    def __init__(self):\n",
    "        self.root = tk.Tk()\n",
    "        self.root.title('S-AES')\n",
    "        self.plaintext_var = tk.StringVar()  # 明文\n",
    "        self.key_var = tk.StringVar()  # 密钥\n",
    "        self.ciphertext_var = tk.StringVar()  # 密文\n",
    "        self.decrypted_text_var = tk.StringVar()  # 解密后的文本\n",
    "        self.aes = AES()\n",
    "\n",
    "    # 加密按钮的动作函数\n",
    "    def encrypt_action(self):\n",
    "        plaintext = self.plaintext_var.get()  # 获取明文\n",
    "        key = self.key_var.get()  # 获取密钥\n",
    "        ciphertext = self.aes.encode(plaintext, key)  # 使用给定的密钥对明文进行加密\n",
    "        self.ciphertext_var.set(ciphertext)  # 显示加密后的密文\n",
    "\n",
    "    def decrypt_action(self):\n",
    "        ciphertext = self.ciphertext_var.get()  # 获取密文\n",
    "        key = self.key_var.get()  # 获取密钥\n",
    "        decrypted_text = self.aes.decode(ciphertext, key)  # 使用给定的密钥对密文进行解密\n",
    "        self.decrypted_text_var.set(decrypted_text)  # 显示解密后的明文\n",
    "\n",
    "    def setGUI(self):\n",
    "        ttk.Label(self.root, text=\"明文 (16-bit):\").grid(row=0, column=0, sticky=\"w\", padx=10, pady=10)\n",
    "        ttk.Entry(self.root, textvariable=self.plaintext_var).grid(row=0, column=1, padx=10, pady=10)\n",
    "        ttk.Label(self.root, text=\"密钥 (32or48-bit):\").grid(row=1, column=0, sticky=\"w\", padx=10, pady=10)\n",
    "        ttk.Entry(self.root, textvariable=self.key_var).grid(row=1, column=1, padx=10, pady=10)\n",
    "        ttk.Button(self.root, text=\"加密\", command=self.encrypt_action).grid(row=2, column=0, padx=10, pady=10)\n",
    "        ttk.Button(self.root, text=\"解密\", command=self.decrypt_action).grid(row=2, column=1, padx=10, pady=10)\n",
    "        ttk.Label(self.root, text=\"密文 (16-bit):\").grid(row=3, column=0, sticky=\"w\", padx=10, pady=10)\n",
    "        ttk.Entry(self.root, textvariable=self.ciphertext_var).grid(row=3, column=1, padx=10, pady=10)\n",
    "        ttk.Label(self.root, text=\"解密文本 (16-bit):\").grid(row=4, column=0, sticky=\"w\", padx=10, pady=10)\n",
    "        ttk.Entry(self.root, textvariable=self.decrypted_text_var).grid(row=4, column=1, padx=10, pady=10)"
   ]
  },
  {
   "cell_type": "code",
   "execution_count": 2,
   "outputs": [
    {
     "name": "stdout",
     "output_type": "stream",
     "text": [
      "['0110111101101011', '1001110010001111', '0111001110011010', '1010110001101101']\n",
      "['0000011010001010', '1011111000011001', '0000000000111100', '1000000100011111']\n"
     ]
    }
   ],
   "source": [
    "def get_keys(input_p, input_c):\n",
    "    list_dict_p = []\n",
    "    for i in range(65536):\n",
    "        k1 = bin(i)[2:].zfill(16)\n",
    "        c1 = test.encode(input_p, k1)\n",
    "        dict_p = {'k1': k1, 'c1': c1}\n",
    "        list_dict_p.append(dict_p)\n",
    "    keys = []\n",
    "    key = ''\n",
    "    for i in range(65536):\n",
    "        k2 = bin(i)[2:].zfill(16)\n",
    "        p2 = test.decode(input_c, k2)\n",
    "        for j in list_dict_p:\n",
    "            if j['c1'] == p2:\n",
    "                key = j['k1'] + k2\n",
    "                keys.append(key)\n",
    "    return keys\n",
    "\n",
    "def get_same_keys(input_p, input_c, another_keys):\n",
    "    list_dict_p = []\n",
    "    for i in range(65536):\n",
    "        k1 = bin(i)[2:].zfill(16)\n",
    "        c1 = test.encode(input_p, k1)\n",
    "        dict_p = {'k1': k1, 'c1': c1}\n",
    "        list_dict_p.append(dict_p)\n",
    "    keys = []\n",
    "    key = ''\n",
    "    for i in range(65536):\n",
    "        k2 = bin(i)[2:].zfill(16)\n",
    "        p2 = test.decode(input_c, k2)\n",
    "        for j in list_dict_p:\n",
    "            if j['c1'] == p2:\n",
    "                key = j['k1'] + k2\n",
    "                if key in another_keys:\n",
    "                    keys.append(key)\n",
    "    return keys\n",
    "\n",
    "test = AES()\n",
    "k = '10100111001110111110000101011010'\n",
    "p1 = '0110111101101011'\n",
    "p2 = '1001110010001111'\n",
    "p3 = '0111001110011010'\n",
    "p4 = '1010110001101101'\n",
    "c1 = test.encode(p1, k)\n",
    "c2 = test.encode(p2, k)\n",
    "c3 = test.encode(p3, k)\n",
    "c4 = test.encode(p4, k)\n",
    "ps = [p1, p2, p3, p4]\n",
    "cs = [c1, c2, c3, c4]\n",
    "print(ps)\n",
    "print(cs)"
   ],
   "metadata": {
    "collapsed": false
   }
  },
  {
   "cell_type": "code",
   "execution_count": 3,
   "outputs": [
    {
     "name": "stdout",
     "output_type": "stream",
     "text": [
      "破解时间:  1053.1098024845123\n",
      "密钥列表:  ['10100111001110111110000101011010']\n"
     ]
    }
   ],
   "source": [
    "import time\n",
    "t1 = time.time()\n",
    "keys1 = get_keys(p1, c1)\n",
    "keys2 = get_same_keys(p2, c2, keys1)\n",
    "keys3 = get_same_keys(p3, c3, keys2)\n",
    "keys4 = get_same_keys(p4, c4, keys3)\n",
    "t2 = time.time()\n",
    "whole_time = float(t2 - t1)\n",
    "print('破解时间: ', whole_time)\n",
    "print('密钥列表: ', keys4)"
   ],
   "metadata": {
    "collapsed": false
   }
  },
  {
   "cell_type": "code",
   "execution_count": 4,
   "outputs": [
    {
     "name": "stdout",
     "output_type": "stream",
     "text": [
      "破解时间:  1019.8125574588776\n",
      "密钥列表:  ['10100111001110111110000101011010']\n"
     ]
    }
   ],
   "source": [
    "def get_same_keys2(input_p, input_c, another_keys):\n",
    "    keys = []\n",
    "    for key in another_keys:\n",
    "        if test.encode(input_p, key) == input_c:\n",
    "            keys.append(key)\n",
    "    return keys\n",
    "\n",
    "t3 = time.time()\n",
    "keys1 = get_keys(p1, c1)\n",
    "keys2 = get_same_keys(p2, c2, keys1)\n",
    "keys3 = get_same_keys(p3, c3, keys2)\n",
    "keys4 = get_same_keys(p4, c4, keys3)\n",
    "t4 = time.time()\n",
    "whole_time = float(t4 - t3)\n",
    "print('破解时间: ', whole_time)\n",
    "print('密钥列表: ', keys4)"
   ],
   "metadata": {
    "collapsed": false
   }
  },
  {
   "cell_type": "code",
   "execution_count": 5,
   "outputs": [
    {
     "name": "stdout",
     "output_type": "stream",
     "text": [
      "破解时间:  518.7283699512482\n",
      "密钥列表:  ['10100111001110111110000101011010']\n"
     ]
    }
   ],
   "source": [
    "t1 = time.time()\n",
    "keys1 = get_keys(p1, c1)\n",
    "keys2 = get_same_keys(p2, c2, keys1)\n",
    "t2 = time.time()\n",
    "whole_time = float(t2 - t1)\n",
    "print('破解时间: ', whole_time)\n",
    "print('密钥列表: ', keys2)"
   ],
   "metadata": {
    "collapsed": false
   }
  },
  {
   "cell_type": "code",
   "execution_count": 6,
   "outputs": [
    {
     "name": "stdout",
     "output_type": "stream",
     "text": [
      "破解时间:  283.1774094104767\n",
      "密钥列表:  ['10100111001110111110000101011010']\n"
     ]
    }
   ],
   "source": [
    "def get_all_keys(input_ps, input_cs):\n",
    "    list_dict_p = []\n",
    "    for i in range(65536):\n",
    "        k1 = bin(i)[2:].zfill(16)\n",
    "        c1 = test.encode(input_ps[0], k1)\n",
    "        dict_p = {'k1': k1, 'c1': c1}\n",
    "        list_dict_p.append(dict_p)\n",
    "    keys = []\n",
    "    key = ''\n",
    "    for i in range(65536):\n",
    "        k2 = bin(i)[2:].zfill(16)\n",
    "        p2 = test.decode(input_cs[0], k2)\n",
    "        for j in list_dict_p:\n",
    "            if j['c1'] == p2:       # 这把key可以破解p1c1明密文对\n",
    "                key = j['k1'] + k2\n",
    "                flag = 1\n",
    "                for n in range(1, len(input_ps), 1):\n",
    "                    if test.encode(input_ps[n], key) != input_cs[n]:\n",
    "                        flag = 0\n",
    "                        break\n",
    "                if flag == 1:\n",
    "                    keys.append(key)\n",
    "    return keys\n",
    "t5 = time.time()\n",
    "all_keys = get_all_keys(ps, cs)\n",
    "t6 = time.time()\n",
    "whole_time = float(t6 - t5)\n",
    "print('破解时间: ', whole_time)\n",
    "print('密钥列表: ', all_keys)"
   ],
   "metadata": {
    "collapsed": false
   }
  },
  {
   "cell_type": "code",
   "execution_count": 7,
   "outputs": [
    {
     "data": {
      "text/plain": "'10100111001110111110000101011010'"
     },
     "execution_count": 7,
     "metadata": {},
     "output_type": "execute_result"
    }
   ],
   "source": [
    "all_keys[0]"
   ],
   "metadata": {
    "collapsed": false
   }
  },
  {
   "cell_type": "code",
   "execution_count": 8,
   "outputs": [
    {
     "data": {
      "text/plain": "'283.1774094104767'"
     },
     "execution_count": 8,
     "metadata": {},
     "output_type": "execute_result"
    }
   ],
   "source": [
    "str(whole_time)"
   ],
   "metadata": {
    "collapsed": false
   }
  },
  {
   "cell_type": "code",
   "execution_count": 9,
   "outputs": [
    {
     "name": "stdout",
     "output_type": "stream",
     "text": [
      "破解时间:  302.55067682266235\n",
      "密钥列表:  ['10100111001110111110000101011010']\n"
     ]
    }
   ],
   "source": [
    "ps = [p1, p3]\n",
    "cs = [c1, c3]\n",
    "t5 = time.time()\n",
    "all_keys = get_all_keys(ps, cs)\n",
    "t6 = time.time()\n",
    "whole_time = float(t6 - t5)\n",
    "print('破解时间: ', whole_time)\n",
    "print('密钥列表: ', all_keys)"
   ],
   "metadata": {
    "collapsed": false
   }
  },
  {
   "cell_type": "code",
   "execution_count": 10,
   "outputs": [
    {
     "name": "stdout",
     "output_type": "stream",
     "text": [
      "破解时间:  257.85395407676697\n",
      "密钥列表:  ['01111101100111010001110001011100', '10100111001110111110000101011010']\n"
     ]
    }
   ],
   "source": [
    "ps = [p2, p3]\n",
    "cs = [c2, c3]\n",
    "t5 = time.time()\n",
    "all_keys = get_all_keys(ps, cs)\n",
    "t6 = time.time()\n",
    "whole_time = float(t6 - t5)\n",
    "print('破解时间: ', whole_time)\n",
    "print('密钥列表: ', all_keys)"
   ],
   "metadata": {
    "collapsed": false
   }
  },
  {
   "cell_type": "code",
   "execution_count": null,
   "outputs": [],
   "source": [],
   "metadata": {
    "collapsed": false
   }
  }
 ],
 "metadata": {
  "kernelspec": {
   "display_name": "Python 3",
   "language": "python",
   "name": "python3"
  },
  "language_info": {
   "codemirror_mode": {
    "name": "ipython",
    "version": 2
   },
   "file_extension": ".py",
   "mimetype": "text/x-python",
   "name": "python",
   "nbconvert_exporter": "python",
   "pygments_lexer": "ipython2",
   "version": "2.7.6"
  }
 },
 "nbformat": 4,
 "nbformat_minor": 0
}
